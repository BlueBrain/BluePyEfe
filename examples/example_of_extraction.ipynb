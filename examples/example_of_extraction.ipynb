{
 "cells": [
  {
   "cell_type": "markdown",
   "metadata": {},
   "source": [
    "# Extracting electrical features and plotting traces using BluePyEfe"
   ]
  },
  {
   "cell_type": "markdown",
   "metadata": {},
   "source": [
    "This notebook will show you how to use BluePyEfe to extract electrical features from experimental voltage traces. For this example we will use the rat somatosensory cortex data available at: http://microcircuits.epfl.ch/#/article/article_4_eph\n",
    "\n",
    "Author of this script: Tanguy Damart @ Blue Brain Project"
   ]
  },
  {
   "cell_type": "code",
   "execution_count": 1,
   "metadata": {},
   "outputs": [],
   "source": [
    "import pathlib\n",
    "from pprint import pprint\n",
    "import matplotlib.pyplot as plt\n",
    "import numpy as np\n",
    "\n",
    "import bluepyefe\n",
    "import bluepyefe.extract"
   ]
  },
  {
   "cell_type": "markdown",
   "metadata": {},
   "source": [
    "## Using BluePyEfe to extract data and plot traces for a single cell"
   ]
  },
  {
   "cell_type": "markdown",
   "metadata": {},
   "source": [
    "The low level class in BluePyEfe is called \"Cell\". It is instanciated as follow:"
   ]
  },
  {
   "cell_type": "code",
   "execution_count": 2,
   "metadata": {},
   "outputs": [],
   "source": [
    "from bluepyefe.cell import Cell\n",
    "\n",
    "cell = Cell(name=\"MouseNeuron\")"
   ]
  },
  {
   "cell_type": "markdown",
   "metadata": {},
   "source": [
    "The recording_reader argument is used to pass a reader function that should match the format of the files. Here we will trust the automatic detection of the format that uses the extension of the file."
   ]
  },
  {
   "cell_type": "markdown",
   "metadata": {},
   "source": [
    "Right now, the cell is empty. But it will become a recipient for the recording's data. For that let's use one of the data file present in the tests/exp_data directory. To read a data file, our cell also needs the metadata associated in the form of a dictionnary:"
   ]
  },
  {
   "cell_type": "code",
   "execution_count": 3,
   "metadata": {},
   "outputs": [],
   "source": [
    "files_metadata = {\n",
    "    \"i_file\": \"../tests/exp_data/B95_Ch0_IDRest_107.ibw\",\n",
    "    \"v_file\": \"../tests/exp_data/B95_Ch3_IDRest_107.ibw\",\n",
    "    \"i_unit\": \"pA\",\n",
    "    \"v_unit\": \"mV\",\n",
    "    \"t_unit\": \"s\",\n",
    "    \"dt\": 0.00025,\n",
    "    \"ljp\": 14.\n",
    "}"
   ]
  },
  {
   "cell_type": "markdown",
   "metadata": {},
   "source": [
    "The exact fields of this dictionary depend of the metadata already present in your file. Check the reader functions present in bluepyefe/reader.py to see which entries are needed.\n",
    "\n",
    "The units should be the ones in which the recording file is, not the units you want the output to be in. The output units will always be ms, nA, mV.\n",
    "\n",
    "Using this metadata the cell is able to read the data file. The data is now accessible through the \"recordings\" attribute. \"recordings\" is a list that contains as many element as recordings present in the data file:"
   ]
  },
  {
   "cell_type": "code",
   "execution_count": 4,
   "metadata": {},
   "outputs": [
    {
     "name": "stdout",
     "output_type": "stream",
     "text": [
      "{'amp': 0.037498171441257,\n",
      " 'amp_rel': None,\n",
      " 'auto_threshold': -51.27845764160156,\n",
      " 'config_data': {'dt': 0.00025,\n",
      "                 'i_file': '../tests/exp_data/B95_Ch0_IDRest_107.ibw',\n",
      "                 'i_unit': 'pA',\n",
      "                 'ljp': 14.0,\n",
      "                 'protocol_name': 'IDRest',\n",
      "                 't_unit': 's',\n",
      "                 'v_file': '../tests/exp_data/B95_Ch3_IDRest_107.ibw',\n",
      "                 'v_unit': 'mV'},\n",
      " 'current': array([-0.02812363, -0.03437332, -0.03124848, ..., -0.03749817,\n",
      "       -0.02812363, -0.02812363], dtype=float32),\n",
      " 'dt': 0.25,\n",
      " 'efeatures': {},\n",
      " 'export_attr': ['ton',\n",
      "                 'toff',\n",
      "                 'tend',\n",
      "                 'amp',\n",
      "                 'hypamp',\n",
      "                 'dt',\n",
      "                 'amp_rel',\n",
      "                 'hypamp_rel'],\n",
      " 'files': ['../tests/exp_data/B95_Ch0_IDRest_107.ibw',\n",
      "           '../tests/exp_data/B95_Ch3_IDRest_107.ibw'],\n",
      " 'hypamp': -0.03124847635626793,\n",
      " 'hypamp_rel': None,\n",
      " 'id': None,\n",
      " 'location': None,\n",
      " 'peak_time': array([ 781.7,  945.7, 1115.8, 1282.3, 1462.5, 1662. , 1931.2, 2146.5,\n",
      "       2618.3]),\n",
      " 'protocol_name': 'IDRest',\n",
      " 'reader_data': {'current': array([-28.123627, -34.37332 , -31.248474, ..., -37.49817 , -28.123627,\n",
      "       -28.123627], dtype=float32),\n",
      "                 'dt': 0.00025,\n",
      "                 'i_unit': 'pA',\n",
      "                 'v_unit': 'mV',\n",
      "                 'voltage': array([-68.5904  , -68.5904  , -68.55916 , ..., -70.152824, -70.090324,\n",
      "       -70.152824], dtype=float32)},\n",
      " 'repetition': None,\n",
      " 't': array([0.00000e+00, 2.50000e-01, 5.00000e-01, ..., 2.99925e+03,\n",
      "       2.99950e+03, 2.99975e+03]),\n",
      " 'tend': 3000.0,\n",
      " 'toff': 2701.5000000000005,\n",
      " 'ton': 699.25,\n",
      " 'voltage': array([-82.5904  , -82.5904  , -82.55916 , ..., -84.152824, -84.090324,\n",
      "       -84.152824], dtype=float32)}\n"
     ]
    }
   ],
   "source": [
    "cell.read_recordings(\n",
    "    protocol_data=[files_metadata], \n",
    "    protocol_name=\"IDRest\"\n",
    ")\n",
    "\n",
    "pprint(vars(cell.recordings[0]))"
   ]
  },
  {
   "cell_type": "markdown",
   "metadata": {},
   "source": [
    "Let's select the first trace and plot it:"
   ]
  },
  {
   "cell_type": "code",
   "execution_count": 5,
   "metadata": {},
   "outputs": [
    {
     "data": {
      "text/plain": [
       "(<AxesSubplot:title={'center':'Amp = 0.037 nA'}, ylabel='Current (nA)'>,\n",
       " <AxesSubplot:xlabel='Time (ms)', ylabel='Voltage (mV)'>)"
      ]
     },
     "execution_count": 5,
     "metadata": {},
     "output_type": "execute_result"
    },
    {
     "data": {
      "image/png": "[encoded data removed]",
      "text/plain": [
       "<Figure size 352.8x345.6 with 2 Axes>"
      ]
     },
     "metadata": {
      "needs_background": "light"
     },
     "output_type": "display_data"
    }
   ],
   "source": [
    "recording = cell.recordings[0]\n",
    "recording.plot()"
   ]
  },
  {
   "cell_type": "markdown",
   "metadata": {},
   "source": [
    "Since we did not specify a starting time, finishing time, step amplitude and holding current in the metadata, we implicitly ask BluePyEfe to infer them from the current time series.\n",
    "BluePyEfe does so throught two steps:\n",
    "- It tries to guess the shape of the current stimulus based on the name of the protocol. In the present case, IDRest is associated to the eCode \"Step\" which represent a simple current step.\n",
    "- It tried to find the beginning and end of the step \n",
    "To check if the eCode was interpreted correctly, we can compare above, the original current array (in blue) with an artificial one generated from the ecode_params (in orange).\n",
    "\n",
    "If you are unhappy with the results (for example the orange line does match with the actual current), you can set the eCode parameters by hand through the metadata. For a step current, the parameters are :'ton', 'toff', 'tend', 'dt', 'amp', and 'hypamp'. For example, if we want to specify the ton and toff by hand, we would do:\n",
    "\n",
    "    files_metadata = {\n",
    "        \"i_file\": \"../tests/exp_data/B95_Ch0_IDRest_107.ibw\",\n",
    "        \"v_file\": \"../tests/exp_data/B95_Ch3_IDRest_107.ibw\",\n",
    "        \"i_unit\": \"pA\",\n",
    "        \"v_unit\": \"mV\",\n",
    "        \"t_unit\": \"s\",\n",
    "        \"dt\": 0.00025,\n",
    "        \"ljp\": 14.,\n",
    "        \"ton\": 700., \n",
    "        \"toff\": 2700.\n",
    "    }\n"
   ]
  },
  {
   "cell_type": "markdown",
   "metadata": {},
   "source": [
    "Now that we have a voltage time series, we can get efeatures from it. A list of all the features available can be found in the documentation of the eFEL package (https://efel.readthedocs.io/en/latest/eFeatures.html and https://bluebrain.github.io/eFEL/efeature-documentation.pdf). For now, let's make a list with a few features and extract them from all the recordings labelled as \"IDRest\" protocols:"
   ]
  },
  {
   "cell_type": "code",
   "execution_count": 6,
   "metadata": {},
   "outputs": [
    {
     "name": "stderr",
     "output_type": "stream",
     "text": [
      "Threshold was not provided and was automatically set to -51.27845764160156\n"
     ]
    },
    {
     "name": "stdout",
     "output_type": "stream",
     "text": [
      "{'AP1_amp': 66.47175655411542,\n",
      " 'AP_width': 3.111111111108989,\n",
      " 'ISI_CV': 0.4542672780653756,\n",
      " 'Spikecount': 9.0,\n",
      " 'mean_frequency': 4.689820484096835}\n"
     ]
    }
   ],
   "source": [
    "interesting_efeatures = [\n",
    "    'Spikecount',\n",
    "    'mean_frequency',\n",
    "    'ISI_CV',\n",
    "    'AP1_amp',\n",
    "    'AP_width'\n",
    "]\n",
    "\n",
    "cell.extract_efeatures(\n",
    "    protocol_name='IDRest', \n",
    "    efeatures=interesting_efeatures\n",
    ")\n",
    "\n",
    "pprint(cell.recordings[0].efeatures)"
   ]
  },
  {
   "cell_type": "markdown",
   "metadata": {},
   "source": [
    "## Using BluePyEfe as a bulk efeatures extraction tool"
   ]
  },
  {
   "cell_type": "markdown",
   "metadata": {},
   "source": [
    "We saw how to read recordings and extract features for a single cell, however the true use of BluePyEfe is to do so for groups of cells.\n",
    "\n",
    "The first thing we will need to do so is to create a dictionary containing the metadata for all the files we want to use. For the current example on two cells, the structure of this dictionary will be as follows:"
   ]
  },
  {
   "cell_type": "code",
   "execution_count": 7,
   "metadata": {},
   "outputs": [
    {
     "data": {
      "text/plain": [
       "{'B6': {'IDRest': [{'i_file': '../tests/exp_data/B6/B6_Ch0_IDRest_181.ibw',\n",
       "    'v_file': '../tests/exp_data/B6/B6_Ch3_IDRest_181.ibw',\n",
       "    'i_unit': 'pA',\n",
       "    'v_unit': 'mV',\n",
       "    't_unit': 's',\n",
       "    'dt': 0.00025,\n",
       "    'ljp': 14.0},\n",
       "   {'i_file': '../tests/exp_data/B6/B6_Ch0_IDRest_183.ibw',\n",
       "    'v_file': '../tests/exp_data/B6/B6_Ch3_IDRest_183.ibw',\n",
       "    'i_unit': 'pA',\n",
       "    'v_unit': 'mV',\n",
       "    't_unit': 's',\n",
       "    'dt': 0.00025,\n",
       "    'ljp': 14.0},\n",
       "   {'i_file': '../tests/exp_data/B6/B6_Ch0_IDRest_182.ibw',\n",
       "    'v_file': '../tests/exp_data/B6/B6_Ch3_IDRest_182.ibw',\n",
       "    'i_unit': 'pA',\n",
       "    'v_unit': 'mV',\n",
       "    't_unit': 's',\n",
       "    'dt': 0.00025,\n",
       "    'ljp': 14.0},\n",
       "   {'i_file': '../tests/exp_data/B6/B6_Ch0_IDRest_185.ibw',\n",
       "    'v_file': '../tests/exp_data/B6/B6_Ch3_IDRest_185.ibw',\n",
       "    'i_unit': 'pA',\n",
       "    'v_unit': 'mV',\n",
       "    't_unit': 's',\n",
       "    'dt': 0.00025,\n",
       "    'ljp': 14.0},\n",
       "   {'i_file': '../tests/exp_data/B6/B6_Ch0_IDRest_184.ibw',\n",
       "    'v_file': '../tests/exp_data/B6/B6_Ch3_IDRest_184.ibw',\n",
       "    'i_unit': 'pA',\n",
       "    'v_unit': 'mV',\n",
       "    't_unit': 's',\n",
       "    'dt': 0.00025,\n",
       "    'ljp': 14.0}]},\n",
       " 'B8': {'IDRest': [{'i_file': '../tests/exp_data/B8/B8_Ch0_IDRest_148.ibw',\n",
       "    'v_file': '../tests/exp_data/B8/B8_Ch3_IDRest_148.ibw',\n",
       "    'i_unit': 'pA',\n",
       "    'v_unit': 'mV',\n",
       "    't_unit': 's',\n",
       "    'dt': 0.00025,\n",
       "    'ljp': 14.0},\n",
       "   {'i_file': '../tests/exp_data/B8/B8_Ch0_IDRest_149.ibw',\n",
       "    'v_file': '../tests/exp_data/B8/B8_Ch3_IDRest_149.ibw',\n",
       "    'i_unit': 'pA',\n",
       "    'v_unit': 'mV',\n",
       "    't_unit': 's',\n",
       "    'dt': 0.00025,\n",
       "    'ljp': 14.0},\n",
       "   {'i_file': '../tests/exp_data/B8/B8_Ch0_IDRest_147.ibw',\n",
       "    'v_file': '../tests/exp_data/B8/B8_Ch3_IDRest_147.ibw',\n",
       "    'i_unit': 'pA',\n",
       "    'v_unit': 'mV',\n",
       "    't_unit': 's',\n",
       "    'dt': 0.00025,\n",
       "    'ljp': 14.0},\n",
       "   {'i_file': '../tests/exp_data/B8/B8_Ch0_IDRest_146.ibw',\n",
       "    'v_file': '../tests/exp_data/B8/B8_Ch3_IDRest_146.ibw',\n",
       "    'i_unit': 'pA',\n",
       "    'v_unit': 'mV',\n",
       "    't_unit': 's',\n",
       "    'dt': 0.00025,\n",
       "    'ljp': 14.0},\n",
       "   {'i_file': '../tests/exp_data/B8/B8_Ch0_IDRest_145.ibw',\n",
       "    'v_file': '../tests/exp_data/B8/B8_Ch3_IDRest_145.ibw',\n",
       "    'i_unit': 'pA',\n",
       "    'v_unit': 'mV',\n",
       "    't_unit': 's',\n",
       "    'dt': 0.00025,\n",
       "    'ljp': 14.0}]}}"
      ]
     },
     "execution_count": 7,
     "metadata": {},
     "output_type": "execute_result"
    }
   ],
   "source": [
    "import glob\n",
    "\n",
    "files_metadata = {\"B6\": {\"IDRest\": []}, \"B8\": {\"IDRest\": []}}\n",
    "\n",
    "for cell in [\"B6\", \"B8\"]:\n",
    "    for file in glob.glob(f\"../tests/exp_data/{cell}/{cell}_Ch0_IDRest_*.ibw\"):\n",
    "\n",
    "        files_metadata[cell][\"IDRest\"].append({\n",
    "            \"i_file\": file,\n",
    "            \"v_file\": file.replace(\"Ch0\", \"Ch3\"),\n",
    "            \"i_unit\": \"pA\",\n",
    "            \"v_unit\": \"mV\",\n",
    "            \"t_unit\": \"s\",\n",
    "            \"dt\": 0.00025,\n",
    "            \"ljp\": 14.\n",
    "        })\n",
    "        \n",
    "files_metadata"
   ]
  },
  {
   "cell_type": "markdown",
   "metadata": {},
   "source": [
    "We can now read these recordings. The result of this step is a list of Cells that contains the recordings:"
   ]
  },
  {
   "cell_type": "code",
   "execution_count": 8,
   "metadata": {
    "jupyter": {
     "outputs_hidden": true
    },
    "tags": []
   },
   "outputs": [
    {
     "name": "stdout",
     "output_type": "stream",
     "text": [
      "{'amp': 0.1156193595379591,\n",
      " 'amp_rel': None,\n",
      " 'auto_threshold': -46.80992126464844,\n",
      " 'config_data': {'dt': 0.00025,\n",
      "                 'i_file': '../tests/exp_data/B6/B6_Ch0_IDRest_181.ibw',\n",
      "                 'i_unit': 'pA',\n",
      "                 'ljp': 14.0,\n",
      "                 'protocol_name': 'IDRest',\n",
      "                 't_unit': 's',\n",
      "                 'v_file': '../tests/exp_data/B6/B6_Ch3_IDRest_181.ibw',\n",
      "                 'v_unit': 'mV'},\n",
      " 'current': array([-0.00312485, -0.01562424, -0.00937454, ..., -0.00937454,\n",
      "       -0.01562424, -0.00937454], dtype=float32),\n",
      " 'dt': 0.25,\n",
      " 'efeatures': {},\n",
      " 'export_attr': ['ton',\n",
      "                 'toff',\n",
      "                 'tend',\n",
      "                 'amp',\n",
      "                 'hypamp',\n",
      "                 'dt',\n",
      "                 'amp_rel',\n",
      "                 'hypamp_rel'],\n",
      " 'files': ['../tests/exp_data/B6/B6_Ch0_IDRest_181.ibw',\n",
      "           '../tests/exp_data/B6/B6_Ch3_IDRest_181.ibw'],\n",
      " 'hypamp': -0.012499390169978142,\n",
      " 'hypamp_rel': None,\n",
      " 'id': None,\n",
      " 'location': None,\n",
      " 'peak_time': array([ 741.5,  824.5,  984.5, 1045.5, 1119. , 1180.3, 1244.8, 1319.5,\n",
      "       1381.3, 1456.3, 1525.2, 1598.8, 1666.3, 1735.5, 1808.8, 1882. ,\n",
      "       1961.5, 2041.5, 2116.5, 2190.8, 2265.8, 2335.5, 2418. , 2489. ,\n",
      "       2553.5, 2638. ]),\n",
      " 'protocol_name': 'IDRest',\n",
      " 'reader_data': {'current': array([ -3.1248474, -15.624237 ,  -9.374542 , ...,  -9.374542 ,\n",
      "       -15.624237 ,  -9.374542 ], dtype=float32),\n",
      "                 'dt': 0.00025,\n",
      "                 'i_unit': 'pA',\n",
      "                 'v_unit': 'mV',\n",
      "                 'voltage': array([-69.09038 , -69.09038 , -69.059135, ..., -71.590256, -71.52776 ,\n",
      "       -71.52776 ], dtype=float32)},\n",
      " 'repetition': None,\n",
      " 't': array([0.00000e+00, 2.50000e-01, 5.00000e-01, ..., 2.99925e+03,\n",
      "       2.99950e+03, 2.99975e+03]),\n",
      " 'tend': 3000.0,\n",
      " 'toff': 2701.75,\n",
      " 'ton': 2.0,\n",
      " 'voltage': array([-83.09038 , -83.09038 , -83.059135, ..., -85.590256, -85.52776 ,\n",
      "       -85.52776 ], dtype=float32)}\n"
     ]
    }
   ],
   "source": [
    "cells = bluepyefe.extract.read_recordings(files_metadata=files_metadata)\n",
    "\n",
    "pprint(vars(cells[0].recordings[0]))"
   ]
  },
  {
   "cell_type": "markdown",
   "metadata": {},
   "source": [
    "The main purpose of BluePyEFe is to output efeatures and protocols that can then be used as input by BluePyOpt. To do so, the efeatures need to be averaged over the cells present in the dataset for different step current amplitude referred to as \"targets\". These targets need to be defined as percentages of the spiking threshold of the cells, here 150%, 200% and 250%.\n",
    "\n",
    "Therefore, the second requirement to be able to extract efeatures is a dictionary containing theses targets. They are defined as a combination of a protocol name, target amplitude and names of the efeatures:"
   ]
  },
  {
   "cell_type": "code",
   "execution_count": 9,
   "metadata": {},
   "outputs": [],
   "source": [
    "interesting_amplitudes = [150, 200, 250]\n",
    "\n",
    "targets = []\n",
    "for efeature in interesting_efeatures:\n",
    "    for amplitude in interesting_amplitudes:\n",
    "\n",
    "        target = {\n",
    "            \"efeature\": efeature,\n",
    "            \"protocol\": \"IDRest\",\n",
    "            \"amplitude\": amplitude,\n",
    "            \"tolerance\": 20.,\n",
    "        }\n",
    "\n",
    "        targets.append(target)"
   ]
  },
  {
   "cell_type": "markdown",
   "metadata": {},
   "source": [
    "We can now extract the efeatures for these targets:"
   ]
  },
  {
   "cell_type": "code",
   "execution_count": 10,
   "metadata": {},
   "outputs": [
    {
     "name": "stderr",
     "output_type": "stream",
     "text": [
      "Threshold was not provided and was automatically set to -46.80992126464844\n",
      "Threshold was not provided and was automatically set to -40.21649169921875\n",
      "Threshold was not provided and was automatically set to -42.65387725830078\n",
      "Threshold was not provided and was automatically set to -36.37293243408203\n",
      "Threshold was not provided and was automatically set to -38.12284469604492\n",
      "Threshold was not provided and was automatically set to -39.34153366088867\n",
      "Threshold was not provided and was automatically set to -36.87290573120117\n",
      "Threshold was not provided and was automatically set to -43.560081481933594\n",
      "Threshold was not provided and was automatically set to -45.778724670410156\n",
      "Threshold was not provided and was automatically set to -47.278656005859375\n"
     ]
    },
    {
     "name": "stdout",
     "output_type": "stream",
     "text": [
      "\n",
      "Cell B6 : \n",
      "{'AP1_amp': 59.778331750135465,\n",
      " 'AP_width': 2.3384615384597045,\n",
      " 'ISI_CV': 0.2524553695652191,\n",
      " 'Spikecount': 26.0,\n",
      " 'mean_frequency': 9.863429438548126}\n",
      "\n",
      "Cell B8 : \n",
      "{'AP1_amp': 69.2091239924128,\n",
      " 'AP_width': 2.7999999999979535,\n",
      " 'ISI_CV': 0.08762231450204114,\n",
      " 'Spikecount': 75.0,\n",
      " 'mean_frequency': 37.88357115800014}\n"
     ]
    }
   ],
   "source": [
    "cells = bluepyefe.extract.extract_efeatures_at_targets(\n",
    "        cells=cells,\n",
    "        targets=targets\n",
    ")\n",
    "\n",
    "for cell in cells:\n",
    "    print(\"\\nCell \" + cell.name, \": \")\n",
    "    pprint(cell.recordings[0].efeatures)"
   ]
  },
  {
   "cell_type": "markdown",
   "metadata": {},
   "source": [
    "We can plot all the recording for the cell:"
   ]
  },
  {
   "cell_type": "code",
   "execution_count": 11,
   "metadata": {},
   "outputs": [
    {
     "name": "stderr",
     "output_type": "stream",
     "text": [
      "/Users/damart/Desktop/BluePyEfe/bluepyefe/cell.py:266: UserWarning: Matplotlib is currently using module://matplotlib_inline.backend_inline, which is a non-GUI backend, so cannot show the figure.\n",
      "  fig.show()\n"
     ]
    },
    {
     "data": {
      "image/png": "[encoded data removed]",
      "text/plain": [
       "<Figure size 1800x360 with 20 Axes>"
      ]
     },
     "metadata": {
      "needs_background": "light"
     },
     "output_type": "display_data"
    }
   ],
   "source": [
    "cell.plot_all_recordings(show=True)"
   ]
  },
  {
   "cell_type": "markdown",
   "metadata": {},
   "source": [
    "The average efeatures for the dataset are a function of the relative amplitude of the step currents with respect to be the rheobase. To be able to compute these relative amplitudes for each cell, we would need for example \"IDThresh\" data which are often used to find the minimum step current that can induce a spike. In the case where you have data to compute the rheobase (for example IDThresh traces), you will have to pass the list of the protocol names you want to use for this task in protocols_rheobase, e.g:\n",
    "\n",
    "analyse_threshold(protocols_rheobase  = [\"IDThresh\", \"IV\"]).\n",
    "\n",
    "Since we do not have this data in this example, we are going to set the threshold current by hand for our cells and then ask BluePyEfe to compute the relative amplitude for all the traces:"
   ]
  },
  {
   "cell_type": "code",
   "execution_count": 12,
   "metadata": {},
   "outputs": [],
   "source": [
    "for cell in cells:\n",
    "    cell.rheobase = 0.07\n",
    "    cell.compute_relative_amp()"
   ]
  },
  {
   "cell_type": "markdown",
   "metadata": {},
   "source": [
    "We can now compute the mean efeatures for our dataset and output the efeatures and protocols files which will also be saved in the MouseCells directory:"
   ]
  },
  {
   "cell_type": "code",
   "execution_count": 13,
   "metadata": {},
   "outputs": [
    {
     "name": "stderr",
     "output_type": "stream",
     "text": [
      "Standard deviation for efeatures Spikecount stimulus IDRest is 0 andwill be set to 0.001\n",
      "Standard deviation for efeatures mean_frequency stimulus IDRest is 0 andwill be set to 0.001\n",
      "Standard deviation for efeatures ISI_CV stimulus IDRest is 0 andwill be set to 0.001\n",
      "Standard deviation for efeatures AP1_amp stimulus IDRest is 0 andwill be set to 0.001\n",
      "Standard deviation for efeatures AP_width stimulus IDRest is 0 andwill be set to 0.001\n"
     ]
    },
    {
     "name": "stdout",
     "output_type": "stream",
     "text": [
      "{'IDRest_150': {'soma': [{'efeature_name': 'Spikecount',\n",
      "                          'efel_settings': {},\n",
      "                          'feature': 'Spikecount',\n",
      "                          'n': 2,\n",
      "                          'val': [23.0, 3.0]},\n",
      "                         {'efeature_name': 'mean_frequency',\n",
      "                          'efel_settings': {},\n",
      "                          'feature': 'mean_frequency',\n",
      "                          'n': 2,\n",
      "                          'val': [9.991803270827138, 0.12837383227901267]},\n",
      "                         {'efeature_name': 'ISI_CV',\n",
      "                          'efel_settings': {},\n",
      "                          'feature': 'ISI_CV',\n",
      "                          'n': 2,\n",
      "                          'val': [0.23593477808268337, 0.016520591482535693]},\n",
      "                         {'efeature_name': 'AP1_amp',\n",
      "                          'efel_settings': {},\n",
      "                          'feature': 'AP1_amp',\n",
      "                          'n': 2,\n",
      "                          'val': [64.4187301591853, 4.640398409049837]},\n",
      "                         {'efeature_name': 'AP_width',\n",
      "                          'efel_settings': {'Threshold': -47.044288635253906},\n",
      "                          'feature': 'AP_width',\n",
      "                          'n': 2,\n",
      "                          'val': [2.421730769228975, 0.08326923076927017]}]},\n",
      " 'IDRest_200': {'soma': [{'efeature_name': 'Spikecount',\n",
      "                          'efel_settings': {},\n",
      "                          'feature': 'Spikecount',\n",
      "                          'n': 1,\n",
      "                          'val': [44.0, 0.001]},\n",
      "                         {'efeature_name': 'mean_frequency',\n",
      "                          'efel_settings': {},\n",
      "                          'feature': 'mean_frequency',\n",
      "                          'n': 1,\n",
      "                          'val': [22.383314256660178, 0.001]},\n",
      "                         {'efeature_name': 'ISI_CV',\n",
      "                          'efel_settings': {},\n",
      "                          'feature': 'ISI_CV',\n",
      "                          'n': 1,\n",
      "                          'val': [0.09441845869846707, 0.001]},\n",
      "                         {'efeature_name': 'AP1_amp',\n",
      "                          'efel_settings': {},\n",
      "                          'feature': 'AP1_amp',\n",
      "                          'n': 1,\n",
      "                          'val': [69.60285300920727, 0.001]},\n",
      "                         {'efeature_name': 'AP_width',\n",
      "                          'efel_settings': {'Threshold': -45.778724670410156},\n",
      "                          'feature': 'AP_width',\n",
      "                          'n': 1,\n",
      "                          'val': [2.67045454545261, 0.001]}]},\n",
      " 'IDRest_250': {'soma': [{'efeature_name': 'Spikecount',\n",
      "                          'efel_settings': {},\n",
      "                          'feature': 'Spikecount',\n",
      "                          'n': 2,\n",
      "                          'val': [56.0, 6.0]},\n",
      "                         {'efeature_name': 'mean_frequency',\n",
      "                          'efel_settings': {},\n",
      "                          'feature': 'mean_frequency',\n",
      "                          'n': 2,\n",
      "                          'val': [24.230442815729344, 1.0572041687358684]},\n",
      "                         {'efeature_name': 'ISI_CV',\n",
      "                          'efel_settings': {},\n",
      "                          'feature': 'ISI_CV',\n",
      "                          'n': 2,\n",
      "                          'val': [0.07393798105385893, 0.003492483658947214]},\n",
      "                         {'efeature_name': 'AP1_amp',\n",
      "                          'efel_settings': {},\n",
      "                          'feature': 'AP1_amp',\n",
      "                          'n': 2,\n",
      "                          'val': [65.06245221577123, 4.659150030882742]},\n",
      "                         {'efeature_name': 'AP_width',\n",
      "                          'efel_settings': {'Threshold': -43.10697937011719},\n",
      "                          'feature': 'AP_width',\n",
      "                          'n': 2,\n",
      "                          'val': [2.520806451611066, 0.28080645161267825]}]}}\n",
      "{'IDRest_150': {'holding': {'amp': -0.032810899429023266,\n",
      "                            'delay': 0.0,\n",
      "                            'duration': 3000.0,\n",
      "                            'totduration': 3000.0},\n",
      "                'step': {'amp': 0.10468239244073631,\n",
      "                         'delay': 350.125,\n",
      "                         'duration': 2352.25,\n",
      "                         'thresh_perc': 149.54627491533756,\n",
      "                         'totduration': 3000.0}},\n",
      " 'IDRest_200': {'holding': {'amp': -0.05312240868806839,\n",
      "                            'delay': 0.0,\n",
      "                            'duration': 3000.0,\n",
      "                            'totduration': 3000.0},\n",
      "                'step': {'amp': 0.14061813801527023,\n",
      "                         'delay': 699.75,\n",
      "                         'duration': 2298.0,\n",
      "                         'thresh_perc': 200.88305430752888,\n",
      "                         'totduration': 3000.0}},\n",
      " 'IDRest_250': {'holding': {'amp': -0.032810899429023266,\n",
      "                            'delay': 0.0,\n",
      "                            'duration': 3000.0,\n",
      "                            'totduration': 3000.0},\n",
      "                'step': {'amp': 0.17811630945652723,\n",
      "                         'delay': 350.375,\n",
      "                         'duration': 2499.25,\n",
      "                         'thresh_perc': 254.45187065218175,\n",
      "                         'totduration': 3000.0}}}\n",
      "{'all_holding_current': {'B6': -0.012499390169978142,\n",
      "                         'B8': -0.05312240868806839},\n",
      " 'all_threshold_current': {'B6': 0.07, 'B8': 0.07},\n",
      " 'holding_current': [-0.032810899429023266, 0.020311509259045124],\n",
      " 'threshold_current': [0.07, 0.001]}\n"
     ]
    }
   ],
   "source": [
    "protocols = bluepyefe.extract.group_efeatures(cells, targets)\n",
    "\n",
    "efeatures, protocol_definitions, currents = bluepyefe.extract.create_feature_protocol_files(\n",
    "    cells=cells,\n",
    "    protocols=protocols,\n",
    "    output_directory='MouseCells'\n",
    ")\n",
    "\n",
    "pprint(efeatures)\n",
    "pprint(protocol_definitions)\n",
    "pprint(currents)"
   ]
  },
  {
   "cell_type": "markdown",
   "metadata": {},
   "source": [
    "We can also plot the summary efeature plots for the cells which will also be saved as pdfs in the MouseCells directory. On these plots, to know which marker style corresponds to which cells, use the legend.pdf file."
   ]
  },
  {
   "cell_type": "code",
   "execution_count": 20,
   "metadata": {},
   "outputs": [
    {
     "data": {
      "text/plain": [
       "<Figure size 432x288 with 0 Axes>"
      ]
     },
     "metadata": {},
     "output_type": "display_data"
    }
   ],
   "source": [
    "from bluepyefe.plotting import plot_individual_efeatures, plot_grouped_efeatures\n",
    "output_dir = 'MouseCells'\n",
    "\n",
    "plot_individual_efeatures(cells, protocols, output_dir, key_amp='amp_rel')\n",
    "plot_grouped_efeatures(cells, protocols, output_dir, key_amp=\"amp_rel\")"
   ]
  },
  {
   "cell_type": "markdown",
   "metadata": {},
   "source": [
    "## Using BluePyEfe to extract efeatures and plot them in one line"
   ]
  },
  {
   "cell_type": "markdown",
   "metadata": {},
   "source": [
    "The following command performs all the operations detailed above. It is convenient when using BluePyEfe in other workflow or when interacting with the Extractor object is not needed:\n",
    "\n",
    "Note: this command will not produce any useful result in the present case as we do not have data to compute the rheobase of the cells."
   ]
  },
  {
   "cell_type": "code",
   "execution_count": 21,
   "metadata": {},
   "outputs": [
    {
     "name": "stderr",
     "output_type": "stream",
     "text": [
      "efel_settings is None. Default settings will be used\n",
      "Cannot compute the relative current amplitude for the recordings of cell B6 because its rheobase is None.\n",
      "Cannot compute the relative current amplitude for the recordings of cell B8 because its rheobase is None.\n",
      "/Users/damart/Desktop/BluePyEfe/bluepyefe/extract.py:410: RuntimeWarning: Mean of empty slice\n",
      "  global_rheobase = numpy.nanmean(\n",
      "Number of values < threshold_nvalue_save for efeature Spikecount stimulus IDRest_150. The efeature will be ignored\n",
      "Number of values < threshold_nvalue_save for efeature mean_frequency stimulus IDRest_150. The efeature will be ignored\n",
      "Number of values < threshold_nvalue_save for efeature ISI_CV stimulus IDRest_150. The efeature will be ignored\n",
      "Number of values < threshold_nvalue_save for efeature AP1_amp stimulus IDRest_150. The efeature will be ignored\n",
      "Number of values < threshold_nvalue_save for efeature AP_width stimulus IDRest_150. The efeature will be ignored\n",
      "No efeatures for stimulus IDRest_150. The protocol will not be created.\n",
      "Number of values < threshold_nvalue_save for efeature Spikecount stimulus IDRest_200. The efeature will be ignored\n",
      "Number of values < threshold_nvalue_save for efeature mean_frequency stimulus IDRest_200. The efeature will be ignored\n",
      "Number of values < threshold_nvalue_save for efeature ISI_CV stimulus IDRest_200. The efeature will be ignored\n",
      "Number of values < threshold_nvalue_save for efeature AP1_amp stimulus IDRest_200. The efeature will be ignored\n",
      "Number of values < threshold_nvalue_save for efeature AP_width stimulus IDRest_200. The efeature will be ignored\n",
      "No efeatures for stimulus IDRest_200. The protocol will not be created.\n",
      "Number of values < threshold_nvalue_save for efeature Spikecount stimulus IDRest_250. The efeature will be ignored\n",
      "Number of values < threshold_nvalue_save for efeature mean_frequency stimulus IDRest_250. The efeature will be ignored\n",
      "Number of values < threshold_nvalue_save for efeature ISI_CV stimulus IDRest_250. The efeature will be ignored\n",
      "Number of values < threshold_nvalue_save for efeature AP1_amp stimulus IDRest_250. The efeature will be ignored\n",
      "Number of values < threshold_nvalue_save for efeature AP_width stimulus IDRest_250. The efeature will be ignored\n",
      "No efeatures for stimulus IDRest_250. The protocol will not be created.\n",
      "/Library/Frameworks/Python.framework/Versions/3.9/lib/python3.9/site-packages/numpy/lib/nanfunctions.py:1879: RuntimeWarning: Degrees of freedom <= 0 for slice.\n",
      "  var = nanvar(a, axis=axis, dtype=dtype, out=out, ddof=ddof,\n",
      "/Users/damart/Desktop/BluePyEfe/bluepyefe/extract.py:473: RuntimeWarning: Mean of empty slice\n",
      "  numpy.nanmean(list(threshold.values())),\n",
      "The output of the extraction is empty. Something went wrong. Please check that your targets, files_metadata and protocols_rheobase match the data you have available.\n"
     ]
    },
    {
     "data": {
      "text/plain": [
       "<Figure size 432x288 with 0 Axes>"
      ]
     },
     "metadata": {},
     "output_type": "display_data"
    }
   ],
   "source": [
    "_, _, current = bluepyefe.extract.extract_efeatures(\n",
    "    output_directory='MouseCells',\n",
    "    files_metadata=files_metadata,\n",
    "    targets=targets,\n",
    "    threshold_nvalue_save=1,\n",
    "    protocols_rheobase=[],\n",
    "    write_files=True,\n",
    "    plot=True,\n",
    ")"
   ]
  },
  {
   "cell_type": "code",
   "execution_count": 22,
   "metadata": {},
   "outputs": [],
   "source": [
    "assert current[\"all_holding_current\"] == {\n",
    "    \"B6\": -0.012499390169978142,\n",
    "    \"B8\": -0.05312240868806839,\n",
    "}\n",
    "assert current[\"holding_current\"] == [-0.032810899429023266, 0.020311509259045124]\n"
   ]
  }
 ],
 "metadata": {
  "kernelspec": {
   "display_name": "Python 3 (ipykernel)",
   "language": "python",
   "name": "python3"
  },
  "language_info": {
   "codemirror_mode": {
    "name": "ipython",
    "version": 3
   },
   "file_extension": ".py",
   "mimetype": "text/x-python",
   "name": "python",
   "nbconvert_exporter": "python",
   "pygments_lexer": "ipython3",
   "version": "3.9.7"
  },
  "pycharm": {
   "stem_cell": {
    "cell_type": "raw",
    "metadata": {
     "collapsed": false
    },
    "source": []
   }
  },
  "vscode": {
   "interpreter": {
    "hash": "58168fb1302c2c75da8b5793a20ab6f2a9f7ece7beec039164847186ab82f21e"
   }
  }
 },
 "nbformat": 4,
 "nbformat_minor": 2
}
