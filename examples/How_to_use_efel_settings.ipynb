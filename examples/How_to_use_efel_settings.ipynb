{
 "cells": [
  {
   "cell_type": "markdown",
   "metadata": {},
   "source": [
    "# eFEL settings and how to use them"
   ]
  },
  {
   "cell_type": "markdown",
   "metadata": {},
   "source": [
    "This notebook will show you how to use the settings associated to the eFEL library that BluePyEfe use to compute the electric features (efeatures). These settings can allow for example to extract efeatures on a specific sections of a voltage recording, or to change the voltage threshold at which action potential are detected as such.\n",
    "\n",
    "For this example we will use the rat somatosensory cortex data available at: http://microcircuits.epfl.ch/#/article/article_4_eph\n",
    "\n",
    "Author of this script: Tanguy Damart @ Blue Brain Project"
   ]
  },
  {
   "cell_type": "markdown",
   "metadata": {},
   "source": [
    "## How to specify eFEL settings"
   ]
  },
  {
   "cell_type": "markdown",
   "metadata": {},
   "source": [
    "Let's start by creating a Cell and associating it a recording (see notebook example_of_extraction for a tutorial):"
   ]
  },
  {
   "cell_type": "code",
   "execution_count": 11,
   "metadata": {},
   "outputs": [],
   "source": [
    "from bluepyefe.cell import Cell\n",
    "\n",
    "cell = Cell(name=\"MouseNeuron\")\n",
    "\n",
    "files_metadata = {\n",
    "    \"i_file\": \"../tests/exp_data/B95_Ch0_IDRest_107.ibw\",\n",
    "    \"v_file\": \"../tests/exp_data/B95_Ch3_IDRest_107.ibw\",\n",
    "    \"i_unit\": \"pA\",\n",
    "    \"v_unit\": \"mV\",\n",
    "    \"t_unit\": \"s\",\n",
    "    \"dt\": 0.00025,\n",
    "    \"ljp\": 14.\n",
    "}\n",
    "\n",
    "cell.read_recordings(\n",
    "    protocol_data=[files_metadata], \n",
    "    protocol_name=\"IDRest\"\n",
    ")"
   ]
  },
  {
   "cell_type": "markdown",
   "metadata": {},
   "source": [
    "\n",
    "If we wish to extract efeatures while using some settings of eFEL, we can pass a dictionary where the keys are the name of the settings and the values are the value of the settings:"
   ]
  },
  {
   "cell_type": "code",
   "execution_count": 12,
   "metadata": {},
   "outputs": [
    {
     "name": "stdout",
     "output_type": "stream",
     "text": [
      "{'AP1_amp': 66.47175655411542,\n",
      " 'AP_width': 1.07777777777705,\n",
      " 'ISI_CV': 0.4542672780653756,\n",
      " 'Spikecount': 9.0,\n",
      " 'mean_frequency': 4.6922655822351}\n"
     ]
    }
   ],
   "source": [
    "from pprint import pprint\n",
    "\n",
    "interesting_efeatures = [\n",
    "    'Spikecount',\n",
    "    'mean_frequency',\n",
    "    'ISI_CV',\n",
    "    'AP1_amp',\n",
    "    'AP_width'\n",
    "]\n",
    "\n",
    "efel_settings = {\n",
    "    'strict_stiminterval': True, \n",
    "    'Threshold': -10.\n",
    "}\n",
    "\n",
    "cell.extract_efeatures(\n",
    "    protocol_name='IDRest', \n",
    "    efeatures=interesting_efeatures,\n",
    "    efel_settings=efel_settings\n",
    ")\n",
    "\n",
    "pprint(cell.recordings[0].efeatures)"
   ]
  },
  {
   "cell_type": "markdown",
   "metadata": {},
   "source": [
    "When using the higher level method bluepyefe.extract.extract_efeatures, the eFEL settings can be passed both as global settings or as settings for a specific feature. \n",
    "\n",
    "If both are informed, the feature specific settings will overwrite the global settings. For example, in the following example, the efeature Spikecount will use the global settings but the efeature mean_frequency will use its own settings."
   ]
  },
  {
   "cell_type": "code",
   "execution_count": 13,
   "metadata": {},
   "outputs": [
    {
     "name": "stderr",
     "output_type": "stream",
     "text": [
      "Cannot compute the relative current amplitude for the recordings of cell B6 because its rheobase is None.\n",
      "Cannot compute the relative current amplitude for the recordings of cell B8 because its rheobase is None.\n",
      "Number of values < threshold_nvalue_save for efeature Spikecount stimulus IDRest_[150]. The efeature will be ignored\n",
      "Number of values < threshold_nvalue_save for efeature mean_frequency stimulus IDRest_[150]. The efeature will be ignored\n",
      "No efeatures for stimulus IDRest_[150]. The protocol will not be created.\n",
      "The output of the extraction is empty. Something went wrong. Please check that your targets, files_metadata and protocols_rheobase match the data you have available.\n"
     ]
    }
   ],
   "source": [
    "import glob\n",
    "import bluepyefe.extract\n",
    "\n",
    "files_metadata = {\"B6\": {\"IDRest\": []}, \"B8\": {\"IDRest\": []}}\n",
    "\n",
    "for cell_name in [\"B6\", \"B8\"]:\n",
    "    for file in glob.glob(f\"../tests/exp_data/{cell_name}/{cell_name}_Ch0_IDRest_*.ibw\"):\n",
    "\n",
    "        files_metadata[cell_name][\"IDRest\"].append({\n",
    "            \"i_file\": file,\n",
    "            \"v_file\": file.replace(\"Ch0\", \"Ch3\"),\n",
    "            \"i_unit\": \"pA\",\n",
    "            \"v_unit\": \"mV\",\n",
    "            \"t_unit\": \"s\",\n",
    "            \"dt\": 0.00025,\n",
    "            \"ljp\": 14.\n",
    "        })\n",
    "\n",
    "efel_settings = {\n",
    "    'strict_stiminterval': True, \n",
    "    'Threshold': -10.\n",
    "}\n",
    "\n",
    "targets = [\n",
    "    {\n",
    "        \"efeature\": \"Spikecount\",\n",
    "        \"protocol\": \"IDRest\",\n",
    "        \"amplitude\": [150],\n",
    "        \"tolerance\": [10]\n",
    "    },\n",
    "    {\n",
    "        \"efeature\": \"mean_frequency\",\n",
    "        \"protocol\": \"IDRest\",\n",
    "        \"amplitude\": [150],\n",
    "        \"tolerance\": [10],\n",
    "        \"efel_settings\": {\n",
    "            'strict_stiminterval': False,\n",
    "            'Threshold': 20.,\n",
    "        }\n",
    "    }\n",
    "]\n",
    "\n",
    "efeatures, protocols, currents = bluepyefe.extract.extract_efeatures(\n",
    "    output_directory='MouseCells',\n",
    "    files_metadata=files_metadata,\n",
    "    targets=targets,\n",
    "    threshold_nvalue_save=1,\n",
    "    protocols_rheobase=[],\n",
    "    efel_settings=efel_settings\n",
    ")"
   ]
  },
  {
   "cell_type": "markdown",
   "metadata": {},
   "source": [
    "Note that if both global eFEL settings and feature specific settings are used, the resulting set of settings is the union of both sets of settings. For example, if the global settings are:\n",
    "```{\n",
    "    'strict_stiminterval': True, \n",
    "    'Threshold': -10.\n",
    "}```\n",
    "\n",
    "and the efeature settings are:\n",
    "```{\n",
    "    'strict_stiminterval': False,\n",
    "    'interp_step': 0.1,\n",
    "}```\n",
    "\n",
    "The final effective settings that will be used are:\n",
    "```{\n",
    "    'strict_stiminterval': False,\n",
    "    'interp_step': 0.1,\n",
    "    'Threshold': -10.\n",
    "}```"
   ]
  },
  {
   "cell_type": "markdown",
   "metadata": {},
   "source": [
    "## The default eFEL settings and the default BluePyEfe settings"
   ]
  },
  {
   "cell_type": "markdown",
   "metadata": {},
   "source": [
    "If no settings are passed to the function bluepyefe.extract.extract_efeatures, the default settings that will be used are:\n",
    "```{\n",
    "    'strict_stiminterval': True,\n",
    "    'Threshold': -20.,\n",
    "    'interp_step': 0.025\n",
    "}```\n",
    "\n",
    "Note that these default settings are different from the one used by default by eFEL.\n",
    "\n",
    "If you do not wish to used default settings, you will have to explicitly pass an empty dictionary as an argument:\n",
    "```bluepyefe.extract.extract_efeatures(\n",
    "    output_directory='MouseCells',\n",
    "    files_metadata=files_metadata,\n",
    "    targets=targets,\n",
    "    threshold_nvalue_save=1,\n",
    "    efel_settings={}\n",
    ")```"
   ]
  },
  {
   "cell_type": "markdown",
   "metadata": {},
   "source": [
    "## The Threshold setting"
   ]
  },
  {
   "cell_type": "markdown",
   "metadata": {},
   "source": [
    "The settings \"Threshold\", expects a float. This settings set the voltage threshold above which a spike in the voltage trace is detected as an action potential."
   ]
  },
  {
   "cell_type": "code",
   "execution_count": 14,
   "metadata": {},
   "outputs": [
    {
     "name": "stdout",
     "output_type": "stream",
     "text": [
      "Number of spikes with Threshold = -10.:   9.0\n"
     ]
    }
   ],
   "source": [
    "efel_settings = {\n",
    "    'Threshold': -10.\n",
    "}\n",
    "\n",
    "cell.extract_efeatures(\n",
    "    protocol_name='IDRest', \n",
    "    efeatures=['Spikecount'],\n",
    "    efel_settings=efel_settings\n",
    ")\n",
    "\n",
    "print('Number of spikes with Threshold = -10.:  ', cell.recordings[0].efeatures['Spikecount'])"
   ]
  },
  {
   "cell_type": "code",
   "execution_count": 15,
   "metadata": {},
   "outputs": [
    {
     "name": "stdout",
     "output_type": "stream",
     "text": [
      "Number of spikes with Threshold = 50.:   0.0\n"
     ]
    }
   ],
   "source": [
    "efel_settings = {\n",
    "    'Threshold': 50.\n",
    "}\n",
    "\n",
    "cell.extract_efeatures(\n",
    "    protocol_name='IDRest', \n",
    "    efeatures=['Spikecount'],\n",
    "    efel_settings=efel_settings\n",
    ")\n",
    "\n",
    "print('Number of spikes with Threshold = 50.:  ', cell.recordings[0].efeatures['Spikecount'])"
   ]
  },
  {
   "cell_type": "markdown",
   "metadata": {},
   "source": [
    "## The strict_stiminterval, stim_start and stim_end settings"
   ]
  },
  {
   "cell_type": "markdown",
   "metadata": {},
   "source": [
    "The settings \"strict_stiminterval\" is a boolean. It specifies if the computation of the efeature should depend on the start and the end of the current stimulus.\n",
    "\n",
    "When \"strict_stiminterval\" is set to True, the stim_start and stim_end (float in ms) should also be informed. By default, BluePyEfe set these values to the start and the end of the current stimulus, but you can also pass a value by hand."
   ]
  },
  {
   "cell_type": "code",
   "execution_count": 16,
   "metadata": {},
   "outputs": [
    {
     "name": "stdout",
     "output_type": "stream",
     "text": [
      "Number of spikes during the step:   9.0\n"
     ]
    }
   ],
   "source": [
    "efel_settings = {\n",
    "    'Threshold': -10.,\n",
    "    'strict_stiminterval': True\n",
    "}\n",
    "\n",
    "cell.extract_efeatures(\n",
    "    protocol_name='IDRest', \n",
    "    efeatures=['Spikecount'],\n",
    "    efel_settings=efel_settings\n",
    ")\n",
    "\n",
    "print('Number of spikes during the step:  ', cell.recordings[0].efeatures['Spikecount'])"
   ]
  },
  {
   "cell_type": "code",
   "execution_count": 17,
   "metadata": {},
   "outputs": [
    {
     "name": "stdout",
     "output_type": "stream",
     "text": [
      "Number of spikes between t=0ms and t=100ms:   0.0\n"
     ]
    }
   ],
   "source": [
    "efel_settings = {\n",
    "    'Threshold': -10.,\n",
    "    'strict_stiminterval': True,\n",
    "    'stim_start': 0.,\n",
    "    'stim_end': 100.,\n",
    "}\n",
    "\n",
    "cell.extract_efeatures(\n",
    "    protocol_name='IDRest', \n",
    "    efeatures=['Spikecount'],\n",
    "    efel_settings=efel_settings\n",
    ")\n",
    "\n",
    "print('Number of spikes between t=0ms and t=100ms:  ', cell.recordings[0].efeatures['Spikecount'])"
   ]
  },
  {
   "cell_type": "markdown",
   "metadata": {},
   "source": [
    "Note that the setting strict_stiminterval affects differently the computation of different features.\n",
    "For example, for the features ohmic_input_resistance or voltage_deflection, strict_stiminterval should always be True and the stim_start and stim_end should always match the beginning and the end of the current stimulus.\n",
    "That is because these efeatures depend explicitly on the difference in voltage induced by the stimulus.\n"
   ]
  },
  {
   "cell_type": "markdown",
   "metadata": {},
   "source": [
    "## The interp_step setting"
   ]
  },
  {
   "cell_type": "markdown",
   "metadata": {},
   "source": [
    "The settings \"interp_step\" is a float, its unit is ms.\n",
    "\n",
    "When extraction efeatures from a time series, eFEL re-interpolate the voltage based on a fix time step. And the efeature value is computed from the interpolated time series and not from the original one. The settings \"interp_step\" fixes the time step used during the interpolation.\n",
    "\n",
    "It could be expected that all efeature do not vary with interp_step, however, the computation of some efeatures such as AP_duration_half_width make use of specific number of data points and will vary with this setting:"
   ]
  },
  {
   "cell_type": "code",
   "execution_count": 18,
   "metadata": {},
   "outputs": [
    {
     "name": "stdout",
     "output_type": "stream",
     "text": [
      "Number of spikes at interp_step=0.1ms:   9.0\n",
      "Mean width of spikes at interp_step=0.1ms:   1.07777777777705\n"
     ]
    }
   ],
   "source": [
    "efel_settings = {\n",
    "    'Threshold': -10.,\n",
    "    'strict_stiminterval': True,\n",
    "    'interp_step': 0.1\n",
    "}\n",
    "\n",
    "cell.extract_efeatures(\n",
    "    protocol_name='IDRest', \n",
    "    efeatures=['Spikecount', 'AP_width'],\n",
    "    efel_settings=efel_settings\n",
    ")\n",
    "\n",
    "print('Number of spikes at interp_step=0.1ms:  ', cell.recordings[0].efeatures['Spikecount'])\n",
    "print('Mean width of spikes at interp_step=0.1ms:  ', cell.recordings[0].efeatures['AP_width'])"
   ]
  },
  {
   "cell_type": "code",
   "execution_count": 19,
   "metadata": {},
   "outputs": [
    {
     "name": "stdout",
     "output_type": "stream",
     "text": [
      "Number of spikes at interp_step=0.025ms:   9.0\n",
      "Mean width of spikes at interp_step=0.025ms:   1.0805555555584507\n"
     ]
    }
   ],
   "source": [
    "efel_settings = {\n",
    "    'Threshold': -10.,\n",
    "    'strict_stiminterval': True,\n",
    "    'interp_step': 0.025\n",
    "}\n",
    "\n",
    "cell.extract_efeatures(\n",
    "    protocol_name='IDRest', \n",
    "    efeatures=['Spikecount', 'AP_width'],\n",
    "    efel_settings=efel_settings\n",
    ")\n",
    "\n",
    "print('Number of spikes at interp_step=0.025ms:  ', cell.recordings[0].efeatures['Spikecount'])\n",
    "print('Mean width of spikes at interp_step=0.025ms:  ', cell.recordings[0].efeatures['AP_width'])"
   ]
  },
  {
   "cell_type": "code",
   "execution_count": 20,
   "metadata": {},
   "outputs": [],
   "source": [
    "assert cell.recordings[0].efeatures['Spikecount'] == 9\n",
    "assert cell.recordings[0].efeatures['AP_width'] == 1.0805555555584507"
   ]
  },
  {
   "cell_type": "markdown",
   "metadata": {},
   "source": [
    "Note that the default \"inter_step\" in BluePyEfe is 0.025ms, while it is 0.1ms in eFEL. Overall, it is advised not to go above 0.1ms."
   ]
  },
  {
   "cell_type": "code",
   "execution_count": null,
   "metadata": {},
   "outputs": [],
   "source": []
  }
 ],
 "metadata": {
  "kernelspec": {
   "display_name": "Python 3.9.15 ('bluepyefe-py39')",
   "language": "python",
   "name": "python3"
  },
  "language_info": {
   "codemirror_mode": {
    "name": "ipython",
    "version": 3
   },
   "file_extension": ".py",
   "mimetype": "text/x-python",
   "name": "python",
   "nbconvert_exporter": "python",
   "pygments_lexer": "ipython3",
   "version": "3.9.15"
  },
  "pycharm": {
   "stem_cell": {
    "cell_type": "raw",
    "metadata": {
     "collapsed": false
    },
    "source": []
   }
  },
  "vscode": {
   "interpreter": {
    "hash": "58168fb1302c2c75da8b5793a20ab6f2a9f7ece7beec039164847186ab82f21e"
   }
  }
 },
 "nbformat": 4,
 "nbformat_minor": 4
}
