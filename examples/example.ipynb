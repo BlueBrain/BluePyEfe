{
 "cells": [
  {
   "cell_type": "markdown",
   "metadata": {},
   "source": [
    "# Extracting electrical features and plotting traces using BluePyEfe"
   ]
  },
  {
   "cell_type": "markdown",
   "metadata": {},
   "source": [
    "This notebook will show you how to use BluePyEfe to extract electrical features from experimental voltage traces. For this example we will use the rat somatosensory cortex data available at: http://microcircuits.epfl.ch/#/article/article_4_eph\n",
    "\n",
    "Author of this script: Tanguy Damart @ Blue Brain Project"
   ]
  },
  {
   "cell_type": "code",
   "execution_count": 1,
   "metadata": {},
   "outputs": [],
   "source": [
    "import pathlib\n",
    "from pprint import pprint\n",
    "import matplotlib.pyplot as plt\n",
    "\n",
    "import bluepyefe\n",
    "import bluepyefe.extract"
   ]
  },
  {
   "cell_type": "markdown",
   "metadata": {},
   "source": [
    "## Using BluePyEfe to extract data and plot traces for a single cell"
   ]
  },
  {
   "cell_type": "markdown",
   "metadata": {},
   "source": [
    "The low level class in BluePyEfe is called \"Cell\". It is instanciated as follow:"
   ]
  },
  {
   "cell_type": "code",
   "execution_count": 3,
   "metadata": {},
   "outputs": [],
   "source": [
    "from bluepyefe.cell import Cell\n",
    "\n",
    "cell = Cell(name=\"MouseNeuron\")"
   ]
  },
  {
   "cell_type": "markdown",
   "metadata": {},
   "source": [
    "The recording_reader argument is used to pass a reader function that should match the format of the files. Here we will trust the automatic detection of the format that uses the extension of the file."
   ]
  },
  {
   "cell_type": "markdown",
   "metadata": {},
   "source": [
    "Right now, the cell is empty. But it will become a recipient for the recording's data. For that let's use one of the data file present in the tests/exp_data directory. To read a data file, our cell also needs the metadata associated in the form of a dictionnary:"
   ]
  },
  {
   "cell_type": "code",
   "execution_count": 4,
   "metadata": {},
   "outputs": [],
   "source": [
    "files_metadata = {\n",
    "    \"i_file\": \"../tests/exp_data/B95_Ch0_IDRest_107.ibw\",\n",
    "    \"v_file\": \"../tests/exp_data/B95_Ch3_IDRest_107.ibw\",\n",
    "    \"i_unit\": \"pA\",\n",
    "    \"v_unit\": \"mV\",\n",
    "    \"t_unit\": \"s\",\n",
    "    \"dt\": 0.00025,\n",
    "    \"ljp\": 14.\n",
    "}"
   ]
  },
  {
   "cell_type": "markdown",
   "metadata": {},
   "source": [
    "The exact fields of this dictionary depend of the metadata already present in your file. Check the reader functions present in bluepyefe/reader.py to see which entries are needed.\n",
    "\n",
    "The units should be the ones in which the recording file is, not the units you want the output to be in. The output units will always be ms, nA, mV.\n",
    "\n",
    "Using this metadata the cell is able to read the data file. The data is now accessible through the \"recordings\" attribute. \"recordings\" is a list that contains as many element as recordings present in the data file:"
   ]
  },
  {
   "cell_type": "code",
   "execution_count": 6,
   "metadata": {},
   "outputs": [
    {
     "name": "stdout",
     "output_type": "stream",
     "text": [
      "{'amp': 0.037498171441257,\n",
      " 'amp_rel': None,\n",
      " 'config_data': {'dt': 0.00025,\n",
      "                 'i_file': '../tests/exp_data/B95_Ch0_IDRest_107.ibw',\n",
      "                 'i_unit': 'pA',\n",
      "                 'ljp': 14.0,\n",
      "                 't_unit': 's',\n",
      "                 'v_file': '../tests/exp_data/B95_Ch3_IDRest_107.ibw',\n",
      "                 'v_unit': 'mV'},\n",
      " 'current': array([-0.02812363, -0.03437332, -0.03124848, ..., -0.03749817,\n",
      "       -0.02812363, -0.02812363], dtype=float32),\n",
      " 'dt': 0.25,\n",
      " 'efeatures': {},\n",
      " 'files': ['../tests/exp_data/B95_Ch0_IDRest_107.ibw',\n",
      "           '../tests/exp_data/B95_Ch3_IDRest_107.ibw'],\n",
      " 'hypamp': -0.03124847635626793,\n",
      " 'hypamp_rel': None,\n",
      " 'id': None,\n",
      " 'location': None,\n",
      " 'protocol_name': 'IDRest',\n",
      " 'reader_data': {'current': array([-28.123627, -34.37332 , -31.248474, ..., -37.49817 , -28.123627,\n",
      "       -28.123627], dtype=float32),\n",
      "                 'dt': 0.00025,\n",
      "                 'i_unit': 'pA',\n",
      "                 'v_unit': 'mV',\n",
      "                 'voltage': array([-68.5904  , -68.5904  , -68.55916 , ..., -70.152824, -70.090324,\n",
      "       -70.152824], dtype=float32)},\n",
      " 'repetition': None,\n",
      " 'spikecount': 9,\n",
      " 't': array([0.00000e+00, 2.50000e-01, 5.00000e-01, ..., 2.99925e+03,\n",
      "       2.99950e+03, 2.99975e+03]),\n",
      " 'tend': 3000.0,\n",
      " 'toff': 2700.0,\n",
      " 'ton': 700.25,\n",
      " 'voltage': array([-82.5904  , -82.5904  , -82.55916 , ..., -84.152824, -84.090324,\n",
      "       -84.152824], dtype=float32)}\n"
     ]
    }
   ],
   "source": [
    "cell.read_recordings(\n",
    "    protocol_data=[files_metadata], \n",
    "    protocol_name=\"IDRest\"\n",
    ")\n",
    "\n",
    "pprint(vars(cell.recordings[0]))"
   ]
  },
  {
   "cell_type": "markdown",
   "metadata": {},
   "source": [
    "Let's select the first trace and plot it using matplotlib:"
   ]
  },
  {
   "cell_type": "code",
   "execution_count": 7,
   "metadata": {},
   "outputs": [
    {
     "data": {
      "text/plain": [
       "Text(0, 0.5, 'Voltage (mV)')"
      ]
     },
     "execution_count": 7,
     "metadata": {},
     "output_type": "execute_result"
    },
    {
     "data": {
      "image/png": "[encoded data removed]",
      "text/plain": [
       "<Figure size 432x288 with 2 Axes>"
      ]
     },
     "metadata": {
      "needs_background": "light"
     },
     "output_type": "display_data"
    }
   ],
   "source": [
    "recording = cell.recordings[0]\n",
    "\n",
    "fig, axs = plt.subplots(2, sharex=True)\n",
    "\n",
    "axs[0].plot(recording.t, recording.current, label='current')\n",
    "axs[0].set_ylabel(\"Current (nA)\", size=\"large\")\n",
    "\n",
    "axs[1].plot(recording.t, recording.voltage, label='current')\n",
    "axs[1].set_xlabel(\"Time (ms)\", size=\"large\")\n",
    "axs[1].set_ylabel(\"Voltage (mV)\", size=\"large\")"
   ]
  },
  {
   "cell_type": "markdown",
   "metadata": {},
   "source": [
    "Since we did not specify a starting time, finishing time, step amplitude and holding current in the metadata, we can ask BluePyEfe to infer them from the current time series. To do so we need to tell the Recording what kind of current shape (eCode) it has to expect. If you are unhappy with the results, you can set the eCode parameters through the metadata (for a step current, the parameters are 'ton', 'toff', 'tend', 'dt', 'amp', and 'hypamp')."
   ]
  },
  {
   "cell_type": "code",
   "execution_count": 8,
   "metadata": {},
   "outputs": [
    {
     "name": "stdout",
     "output_type": "stream",
     "text": [
      "{'amp': 0.037498171441257,\n",
      " 'amp_rel': None,\n",
      " 'dt': 0.25,\n",
      " 'hypamp': -0.03124847635626793,\n",
      " 'hypamp_rel': None,\n",
      " 'tend': 3000.0,\n",
      " 'toff': 2700.0,\n",
      " 'ton': 700.25}\n"
     ]
    }
   ],
   "source": [
    "pprint(recording.get_params())"
   ]
  },
  {
   "cell_type": "markdown",
   "metadata": {},
   "source": [
    "To check if the eCode was interpreted correctly, we can compare the original current array (in blue) with an artificial one generated from the ecode_params (in orange):"
   ]
  },
  {
   "cell_type": "code",
   "execution_count": 9,
   "metadata": {},
   "outputs": [
    {
     "data": {
      "text/plain": [
       "Text(0.5, 0, 'Time (ms)')"
      ]
     },
     "execution_count": 9,
     "metadata": {},
     "output_type": "execute_result"
    },
    {
     "data": {
      "image/png": "[encoded data removed]",
      "text/plain": [
       "<Figure size 432x288 with 1 Axes>"
      ]
     },
     "metadata": {
      "needs_background": "light"
     },
     "output_type": "display_data"
    }
   ],
   "source": [
    "generated_current = recording.generate()\n",
    "\n",
    "fig, ax = plt.subplots()\n",
    "ax.plot(recording.t, recording.current, label='current', c='C0')\n",
    "ax.plot(generated_current[0], generated_current[1], label='current', c='C1')\n",
    "ax.set_ylabel(\"Current (nA)\", size=\"large\")\n",
    "ax.set_xlabel(\"Time (ms)\", size=\"large\")"
   ]
  },
  {
   "cell_type": "markdown",
   "metadata": {},
   "source": [
    "Now that we have a voltage time series, we can get efeatures from it. A list of all the features available can be found in the documentation of the eFEL package (https://efel.readthedocs.io/en/latest/eFeatures.html). For now, let's make a list with a few features and extract them from all the recordings labelled as \"IDRest\" protocols:"
   ]
  },
  {
   "cell_type": "code",
   "execution_count": 11,
   "metadata": {},
   "outputs": [
    {
     "name": "stdout",
     "output_type": "stream",
     "text": [
      "{'AP1_amp': 66.6842460613687,\n",
      " 'AP_width': 1.5333333333374715,\n",
      " 'ISI_CV': 0.45426236044311097,\n",
      " 'Spikecount': 9.0,\n",
      " 'mean_frequency': 4.692387904054155}\n"
     ]
    }
   ],
   "source": [
    "interesting_efeatures = [\n",
    "    'Spikecount',\n",
    "    'mean_frequency',\n",
    "    'ISI_CV',\n",
    "    'AP1_amp',\n",
    "    'AP_width'\n",
    "]\n",
    "\n",
    "for efeature in interesting_efeatures:\n",
    "    cell.extract_efeatures(\n",
    "        protocol_name='IDRest', \n",
    "        efeatures=interesting_efeatures\n",
    "    )\n",
    "\n",
    "pprint(cell.recordings[0].efeatures)"
   ]
  },
  {
   "cell_type": "markdown",
   "metadata": {},
   "source": [
    "## Using BluePyEfe as a bulk efeatures extraction tool"
   ]
  },
  {
   "cell_type": "markdown",
   "metadata": {},
   "source": [
    "We saw how to read recordings and extract features for a single cell, however the true use of BluePyEfe is to do so for groups of cells.\n",
    "\n",
    "The first thing we will need to do so is to create a dictionary containing the metadata for all the files we want to use. For the current example on two cells, the structure of this dictionary will be as follows:"
   ]
  },
  {
   "cell_type": "code",
   "execution_count": 14,
   "metadata": {},
   "outputs": [],
   "source": [
    "import glob\n",
    "\n",
    "# Get the path of the files for the first cell and build the metadata dictionaries\n",
    "files_metadata1 = []\n",
    "for file in glob.glob(\"../tests/exp_data/B6/B6_Ch0_IDRest_*.ibw\"):\n",
    "    files_metadata1.append({\"i_file\": file,\n",
    "                            \"v_file\": file.replace(\"Ch0\", \"Ch3\"),\n",
    "                            \"i_unit\": \"pA\",\n",
    "                            \"v_unit\": \"mV\",\n",
    "                            \"t_unit\": \"s\",\n",
    "                            \"dt\": 0.00025,\n",
    "                            \"ljp\": 14.}\n",
    "                          )\n",
    "\n",
    "# Do the same for the second cell\n",
    "files_metadata2 = []\n",
    "for file in glob.glob(\"../tests/exp_data/B8/B8_Ch0_IDRest_*.ibw\"):\n",
    "    files_metadata2.append({\"i_file\": file,\n",
    "                            \"v_file\": file.replace(\"Ch0\", \"Ch3\"),\n",
    "                            \"i_unit\": \"pA\",\n",
    "                            \"v_unit\": \"mV\",\n",
    "                            \"t_unit\": \"s\",\n",
    "                            \"dt\": 0.00025,\n",
    "                            \"ljp\": 14.}\n",
    "                          )\n",
    "\n",
    "files_metadata = {\n",
    "    'MouseNeuron1': {'IDRest': files_metadata1},\n",
    "    'MouseNeuron2': {'IDRest': files_metadata2}\n",
    "}"
   ]
  },
  {
   "cell_type": "code",
   "execution_count": 15,
   "metadata": {
    "collapsed": true,
    "jupyter": {
     "outputs_hidden": true
    },
    "tags": []
   },
   "outputs": [
    {
     "data": {
      "text/plain": [
       "{'MouseNeuron1': {'IDRest': [{'i_file': '../tests/exp_data/B6/B6_Ch0_IDRest_182.ibw',\n",
       "    'v_file': '../tests/exp_data/B6/B6_Ch3_IDRest_182.ibw',\n",
       "    'i_unit': 'pA',\n",
       "    'v_unit': 'mV',\n",
       "    't_unit': 's',\n",
       "    'dt': 0.00025,\n",
       "    'ljp': 14.0},\n",
       "   {'i_file': '../tests/exp_data/B6/B6_Ch0_IDRest_183.ibw',\n",
       "    'v_file': '../tests/exp_data/B6/B6_Ch3_IDRest_183.ibw',\n",
       "    'i_unit': 'pA',\n",
       "    'v_unit': 'mV',\n",
       "    't_unit': 's',\n",
       "    'dt': 0.00025,\n",
       "    'ljp': 14.0},\n",
       "   {'i_file': '../tests/exp_data/B6/B6_Ch0_IDRest_184.ibw',\n",
       "    'v_file': '../tests/exp_data/B6/B6_Ch3_IDRest_184.ibw',\n",
       "    'i_unit': 'pA',\n",
       "    'v_unit': 'mV',\n",
       "    't_unit': 's',\n",
       "    'dt': 0.00025,\n",
       "    'ljp': 14.0},\n",
       "   {'i_file': '../tests/exp_data/B6/B6_Ch0_IDRest_181.ibw',\n",
       "    'v_file': '../tests/exp_data/B6/B6_Ch3_IDRest_181.ibw',\n",
       "    'i_unit': 'pA',\n",
       "    'v_unit': 'mV',\n",
       "    't_unit': 's',\n",
       "    'dt': 0.00025,\n",
       "    'ljp': 14.0},\n",
       "   {'i_file': '../tests/exp_data/B6/B6_Ch0_IDRest_185.ibw',\n",
       "    'v_file': '../tests/exp_data/B6/B6_Ch3_IDRest_185.ibw',\n",
       "    'i_unit': 'pA',\n",
       "    'v_unit': 'mV',\n",
       "    't_unit': 's',\n",
       "    'dt': 0.00025,\n",
       "    'ljp': 14.0}]},\n",
       " 'MouseNeuron2': {'IDRest': [{'i_file': '../tests/exp_data/B8/B8_Ch0_IDRest_148.ibw',\n",
       "    'v_file': '../tests/exp_data/B8/B8_Ch3_IDRest_148.ibw',\n",
       "    'i_unit': 'pA',\n",
       "    'v_unit': 'mV',\n",
       "    't_unit': 's',\n",
       "    'dt': 0.00025,\n",
       "    'ljp': 14.0},\n",
       "   {'i_file': '../tests/exp_data/B8/B8_Ch0_IDRest_149.ibw',\n",
       "    'v_file': '../tests/exp_data/B8/B8_Ch3_IDRest_149.ibw',\n",
       "    'i_unit': 'pA',\n",
       "    'v_unit': 'mV',\n",
       "    't_unit': 's',\n",
       "    'dt': 0.00025,\n",
       "    'ljp': 14.0},\n",
       "   {'i_file': '../tests/exp_data/B8/B8_Ch0_IDRest_145.ibw',\n",
       "    'v_file': '../tests/exp_data/B8/B8_Ch3_IDRest_145.ibw',\n",
       "    'i_unit': 'pA',\n",
       "    'v_unit': 'mV',\n",
       "    't_unit': 's',\n",
       "    'dt': 0.00025,\n",
       "    'ljp': 14.0},\n",
       "   {'i_file': '../tests/exp_data/B8/B8_Ch0_IDRest_146.ibw',\n",
       "    'v_file': '../tests/exp_data/B8/B8_Ch3_IDRest_146.ibw',\n",
       "    'i_unit': 'pA',\n",
       "    'v_unit': 'mV',\n",
       "    't_unit': 's',\n",
       "    'dt': 0.00025,\n",
       "    'ljp': 14.0},\n",
       "   {'i_file': '../tests/exp_data/B8/B8_Ch0_IDRest_147.ibw',\n",
       "    'v_file': '../tests/exp_data/B8/B8_Ch3_IDRest_147.ibw',\n",
       "    'i_unit': 'pA',\n",
       "    'v_unit': 'mV',\n",
       "    't_unit': 's',\n",
       "    'dt': 0.00025,\n",
       "    'ljp': 14.0}]}}"
      ]
     },
     "execution_count": 15,
     "metadata": {},
     "output_type": "execute_result"
    }
   ],
   "source": [
    "files_metadata"
   ]
  },
  {
   "cell_type": "markdown",
   "metadata": {},
   "source": [
    "We can now read these recordings. The result of this step is a list of Cells that contains the recordings:"
   ]
  },
  {
   "cell_type": "code",
   "execution_count": 16,
   "metadata": {
    "collapsed": true,
    "jupyter": {
     "outputs_hidden": true
    },
    "tags": []
   },
   "outputs": [
    {
     "name": "stdout",
     "output_type": "stream",
     "text": [
      "{'amp': 0.17499145679175854,\n",
      " 'amp_rel': None,\n",
      " 'config_data': {'dt': 0.00025,\n",
      "                 'i_file': '../tests/exp_data/B6/B6_Ch0_IDRest_182.ibw',\n",
      "                 'i_unit': 'pA',\n",
      "                 'ljp': 14.0,\n",
      "                 't_unit': 's',\n",
      "                 'v_file': '../tests/exp_data/B6/B6_Ch3_IDRest_182.ibw',\n",
      "                 'v_unit': 'mV'},\n",
      " 'current': array([-0.01562424, -0.01562424, -0.01562424, ..., -0.01249939,\n",
      "       -0.01562424, -0.00937454], dtype=float32),\n",
      " 'dt': 0.25,\n",
      " 'efeatures': {},\n",
      " 'files': ['../tests/exp_data/B6/B6_Ch0_IDRest_182.ibw',\n",
      "           '../tests/exp_data/B6/B6_Ch3_IDRest_182.ibw'],\n",
      " 'hypamp': -0.012499390169978142,\n",
      " 'hypamp_rel': None,\n",
      " 'id': None,\n",
      " 'location': None,\n",
      " 'protocol_name': 'IDRest',\n",
      " 'reader_data': {'current': array([-15.624237, -15.624237, -15.624237, ..., -12.49939 , -15.624237,\n",
      "        -9.374542], dtype=float32),\n",
      "                 'dt': 0.00025,\n",
      "                 'i_unit': 'pA',\n",
      "                 'v_unit': 'mV',\n",
      "                 'voltage': array([-69.96533, -69.87159, -69.84034, ..., -73.84014, -73.8089 ,\n",
      "       -73.8089 ], dtype=float32)},\n",
      " 'repetition': None,\n",
      " 'spikecount': 50,\n",
      " 't': array([0.00000e+00, 2.50000e-01, 5.00000e-01, ..., 2.99925e+03,\n",
      "       2.99950e+03, 2.99975e+03]),\n",
      " 'tend': 3000.0,\n",
      " 'toff': 2700.25,\n",
      " 'ton': 700.0000000000001,\n",
      " 'voltage': array([-83.96533, -83.87159, -83.84034, ..., -87.84014, -87.8089 ,\n",
      "       -87.8089 ], dtype=float32)}\n"
     ]
    }
   ],
   "source": [
    "cells = bluepyefe.extract.read_recordings(files_metadata=files_metadata)\n",
    "\n",
    "pprint(vars(cells[0].recordings[0]))"
   ]
  },
  {
   "cell_type": "markdown",
   "metadata": {},
   "source": [
    "The main purpose of BluePyEFe is to output efeatures and protocols that can then be used as input by BluePyOpt. To do so, the efeatures need to be averaged over the cells present in the dataset for different step current amplitude referred to as \"targets\". These targets need to be defined as percentages of the spiking threshold of the cells, here 150%, 200% and 250%.\n",
    "\n",
    "Therefore, the second requirement to be able to extract efeatures is a dictionary containing theses targets. They are defined as a combination of a protocol name, target amplitude and names of the efeatures:"
   ]
  },
  {
   "cell_type": "code",
   "execution_count": 16,
   "metadata": {},
   "outputs": [],
   "source": [
    "interesting_amplitudes = [150, 200, 250]\n",
    "\n",
    "targets = []\n",
    "for efeature in interesting_efeatures:\n",
    "    for amplitude in interesting_amplitudes:\n",
    "\n",
    "        target = {\n",
    "            \"efeature\": efeature,\n",
    "            \"protocol\": \"IDRest\",\n",
    "            \"amplitude\": amplitude,\n",
    "            \"tolerance\": 20.,\n",
    "        }\n",
    "\n",
    "        targets.append(target)"
   ]
  },
  {
   "cell_type": "markdown",
   "metadata": {},
   "source": [
    "We can now extract the efeatures for these targets:"
   ]
  },
  {
   "cell_type": "code",
   "execution_count": 17,
   "metadata": {},
   "outputs": [
    {
     "name": "stdout",
     "output_type": "stream",
     "text": [
      "\n",
      "Cell MouseNeuron1 : \n",
      "{'AP1_amp': 60.77828405642581,\n",
      " 'AP_width': 1.3280000000038126,\n",
      " 'ISI_CV': 0.07030517050942046,\n",
      " 'Spikecount': 50.0,\n",
      " 'mean_frequency': 25.303643724627815}\n",
      "\n",
      "Cell MouseNeuron2 : \n",
      "{'AP1_amp': 68.93413734639098,\n",
      " 'AP_width': 1.457000000004097,\n",
      " 'ISI_CV': 0.08757930621841394,\n",
      " 'Spikecount': 75.0,\n",
      " 'mean_frequency': 37.921880925191125}\n"
     ]
    }
   ],
   "source": [
    "cells = bluepyefe.extract.extract_efeatures_at_targets(\n",
    "        cells=cells,\n",
    "        targets=targets\n",
    ")\n",
    "\n",
    "for cell in cells:\n",
    "    print(\"\\nCell \" + cell.name, \": \")\n",
    "    pprint(cell.recordings[0].efeatures)"
   ]
  },
  {
   "cell_type": "markdown",
   "metadata": {},
   "source": [
    "And we can plot the recordings for all the cells using the \"Plotter\" class of BluePyEfe. The plots won't appear here but will be saved as pdfs in the 'MouseCells' directory:"
   ]
  },
  {
   "cell_type": "code",
   "execution_count": 18,
   "metadata": {},
   "outputs": [
    {
     "data": {
      "text/plain": [
       "<Figure size 432x288 with 0 Axes>"
      ]
     },
     "metadata": {},
     "output_type": "display_data"
    }
   ],
   "source": [
    "from bluepyefe.plotting import plot_all_recordings\n",
    "\n",
    "output_dir = 'MouseCells'\n",
    "plot_all_recordings(cells, output_dir)"
   ]
  },
  {
   "cell_type": "markdown",
   "metadata": {},
   "source": [
    "The average efeatures for the dataset are a function of the relative amplitude of the step currents with respect to be the rheobase. To be able to compute these relative amplitudes for each cell, we would need for example \"IDThresh\" data which are often used to find the minimum step current that can induce a spike. In the case where you have data to compute the rheobase (for example IDThresh traces), you will have to pass the list of the protocol names you want to use for this task in protocols_rheobase, e.g:\n",
    "\n",
    "analyse_threshold(protocols_rheobase  = [\"IDThresh\", \"IV\"]).\n",
    "\n",
    "Since we do not have this data in this example, we are going to set the threshold current by hand for our cells and then ask BluePyEfe to compute the relative amplitude for all the traces:"
   ]
  },
  {
   "cell_type": "code",
   "execution_count": 19,
   "metadata": {},
   "outputs": [],
   "source": [
    "# analyse_threshold(protocols_threshold = [\"IDThresh\", \"IV\"]).\n",
    "\n",
    "for cell in cells:\n",
    "    cell.rheobase = 0.07\n",
    "    cell.compute_relative_amp()"
   ]
  },
  {
   "cell_type": "markdown",
   "metadata": {},
   "source": [
    "We can now compute the mean efeatures for our dataset and output the efeatures and protocols files which will also be saved in the MouseCells directory:"
   ]
  },
  {
   "cell_type": "code",
   "execution_count": 21,
   "metadata": {},
   "outputs": [
    {
     "name": "stderr",
     "output_type": "stream",
     "text": [
      "Standard deviation for efeatures Spikecount stimulus IDRest is 0 andwill be set to 1e-3\n",
      "Standard deviation for efeatures mean_frequency stimulus IDRest is 0 andwill be set to 1e-3\n",
      "Standard deviation for efeatures ISI_CV stimulus IDRest is 0 andwill be set to 1e-3\n",
      "Standard deviation for efeatures AP1_amp stimulus IDRest is 0 andwill be set to 1e-3\n",
      "Standard deviation for efeatures AP_width stimulus IDRest is 0 andwill be set to 1e-3\n"
     ]
    },
    {
     "name": "stdout",
     "output_type": "stream",
     "text": [
      "{'IDRest_150': {'soma': [{'feature': 'Spikecount', 'n': 2, 'val': [23.0, 3.0]},\n",
      "                         {'feature': 'mean_frequency',\n",
      "                          'n': 2,\n",
      "                          'val': [11.771430784943579, 1.6410015080304046]},\n",
      "                         {'feature': 'ISI_CV',\n",
      "                          'n': 2,\n",
      "                          'val': [0.23595107183815314, 0.016515005372327057]},\n",
      "                         {'feature': 'AP1_amp',\n",
      "                          'n': 2,\n",
      "                          'val': [64.85620879476767, 5.077877041131593]},\n",
      "                         {'feature': 'AP_width',\n",
      "                          'n': 2,\n",
      "                          'val': [1.3661538461578737, 0.07384615384613147]}]},\n",
      " 'IDRest_200': {'soma': [{'feature': 'Spikecount',\n",
      "                          'n': 1,\n",
      "                          'val': [44.0, 0.001]},\n",
      "                         {'feature': 'mean_frequency',\n",
      "                          'n': 1,\n",
      "                          'val': [22.38900903186924, 0.001]},\n",
      "                         {'feature': 'ISI_CV',\n",
      "                          'n': 1,\n",
      "                          'val': [0.09438941931526115, 0.001]},\n",
      "                         {'feature': 'AP1_amp',\n",
      "                          'n': 1,\n",
      "                          'val': [71.12152860730288, 0.001]},\n",
      "                         {'feature': 'AP_width',\n",
      "                          'n': 1,\n",
      "                          'val': [1.515909090913443, 0.001]}]},\n",
      " 'IDRest_250': {'soma': [{'feature': 'Spikecount', 'n': 2, 'val': [56.0, 6.0]},\n",
      "                         {'feature': 'mean_frequency',\n",
      "                          'n': 2,\n",
      "                          'val': [28.328180901462332, 3.0245371768345173]},\n",
      "                         {'feature': 'ISI_CV',\n",
      "                          'n': 2,\n",
      "                          'val': [0.07384849409822208, 0.0035433235888016126]},\n",
      "                         {'feature': 'AP1_amp',\n",
      "                          'n': 2,\n",
      "                          'val': [65.70460871145346, 4.926324655027646]},\n",
      "                         {'feature': 'AP_width',\n",
      "                          'n': 2,\n",
      "                          'val': [1.425693548391202, 0.09769354838738942]}]}}\n",
      "{'IDRest_150': {'holding': {'amp': -0.032810899429023266,\n",
      "                            'delay': 0.0,\n",
      "                            'duration': 3000.0,\n",
      "                            'totduration': 3000.0},\n",
      "                'step': {'amp': 0.1062448164448142,\n",
      "                         'delay': 699.875,\n",
      "                         'duration': 2000.375,\n",
      "                         'thresh_perc': 151.77830920687742,\n",
      "                         'totduration': 3000.0}},\n",
      " 'IDRest_200': {'holding': {'amp': -0.05312240868806839,\n",
      "                            'delay': 0.0,\n",
      "                            'duration': 3000.0,\n",
      "                            'totduration': 3000.0},\n",
      "                'step': {'amp': 0.14061813801527023,\n",
      "                         'delay': 700.25,\n",
      "                         'duration': 1999.75,\n",
      "                         'thresh_perc': 200.88305430752888,\n",
      "                         'totduration': 3000.0}},\n",
      " 'IDRest_250': {'holding': {'amp': -0.032810899429023266,\n",
      "                            'delay': 0.0,\n",
      "                            'duration': 3000.0,\n",
      "                            'totduration': 3000.0},\n",
      "                'step': {'amp': 0.17967873346060514,\n",
      "                         'delay': 700.0000000000001,\n",
      "                         'duration': 2000.25,\n",
      "                         'thresh_perc': 256.6839049437216,\n",
      "                         'totduration': 3000.0}}}\n",
      "{'all_holding_current': {'MouseNeuron1': -0.012499390169978142,\n",
      "                         'MouseNeuron2': -0.05312240868806839},\n",
      " 'all_threshold_current': {'MouseNeuron1': 0.07, 'MouseNeuron2': 0.07},\n",
      " 'holding_current': [-0.032810899429023266, 0.020311509259045124],\n",
      " 'threshold_current': [0.07, 0.0]}\n"
     ]
    }
   ],
   "source": [
    "protocols = bluepyefe.extract.group_efeatures(cells, targets)\n",
    "\n",
    "efeatures, protocol_definitions, currents = bluepyefe.extract.create_feature_protocol_files(\n",
    "    cells=cells,\n",
    "    protocols=protocols,\n",
    "    output_directory='MouseCells'\n",
    ")\n",
    "\n",
    "pprint(efeatures)\n",
    "pprint(protocol_definitions)\n",
    "pprint(currents)"
   ]
  },
  {
   "cell_type": "markdown",
   "metadata": {},
   "source": [
    "We can also plot the summary efeature plots for the cells which will also be saved as pdfs in the MouseCells directory. On these plots, to know which marker style corresponds to which cells, use the legend.pdf file."
   ]
  },
  {
   "cell_type": "code",
   "execution_count": 22,
   "metadata": {},
   "outputs": [
    {
     "data": {
      "text/plain": [
       "<Figure size 432x288 with 0 Axes>"
      ]
     },
     "metadata": {},
     "output_type": "display_data"
    }
   ],
   "source": [
    "from bluepyefe.plotting import plot_individual_efeatures, plot_grouped_efeatures\n",
    "\n",
    "plot_individual_efeatures(cells, protocols, output_dir, key_amp='amp_rel')\n",
    "plot_grouped_efeatures(cells, protocols, output_dir, key_amp=\"amp_rel\")"
   ]
  },
  {
   "cell_type": "markdown",
   "metadata": {},
   "source": [
    "## Using BluePyEfe to extract efeatures and plot them in one line"
   ]
  },
  {
   "cell_type": "markdown",
   "metadata": {},
   "source": [
    "The following command performs all the operations detailed above. It is convenient when using BluePyEfe in other workflow or when interacting with the Extractor object is not needed:\n",
    "\n",
    "Note: this command will not produce any useful result in the present case as we do not have data to compute the rheobase of the cells."
   ]
  },
  {
   "cell_type": "code",
   "execution_count": 32,
   "metadata": {},
   "outputs": [
    {
     "name": "stderr",
     "output_type": "stream",
     "text": [
      "Number of values < threshold_nvalue_save for efeatureSpikecount stimulus IDRest_150. The efeature will be ignored\n",
      "Number of values < threshold_nvalue_save for efeaturemean_frequency stimulus IDRest_150. The efeature will be ignored\n",
      "Number of values < threshold_nvalue_save for efeatureISI_CV stimulus IDRest_150. The efeature will be ignored\n",
      "Number of values < threshold_nvalue_save for efeatureAP1_amp stimulus IDRest_150. The efeature will be ignored\n",
      "Number of values < threshold_nvalue_save for efeatureAP_width stimulus IDRest_150. The efeature will be ignored\n",
      "No efeatures for stimulus IDRest_150. The protocol will not be created.\n",
      "Number of values < threshold_nvalue_save for efeatureSpikecount stimulus IDRest_200. The efeature will be ignored\n",
      "Number of values < threshold_nvalue_save for efeaturemean_frequency stimulus IDRest_200. The efeature will be ignored\n",
      "Number of values < threshold_nvalue_save for efeatureISI_CV stimulus IDRest_200. The efeature will be ignored\n",
      "Number of values < threshold_nvalue_save for efeatureAP1_amp stimulus IDRest_200. The efeature will be ignored\n",
      "Number of values < threshold_nvalue_save for efeatureAP_width stimulus IDRest_200. The efeature will be ignored\n",
      "No efeatures for stimulus IDRest_200. The protocol will not be created.\n",
      "Number of values < threshold_nvalue_save for efeatureSpikecount stimulus IDRest_250. The efeature will be ignored\n",
      "Number of values < threshold_nvalue_save for efeaturemean_frequency stimulus IDRest_250. The efeature will be ignored\n",
      "Number of values < threshold_nvalue_save for efeatureISI_CV stimulus IDRest_250. The efeature will be ignored\n",
      "Number of values < threshold_nvalue_save for efeatureAP1_amp stimulus IDRest_250. The efeature will be ignored\n",
      "Number of values < threshold_nvalue_save for efeatureAP_width stimulus IDRest_250. The efeature will be ignored\n",
      "No efeatures for stimulus IDRest_250. The protocol will not be created.\n",
      "/gpfs/bbp.cscs.ch/home/tuncel/.virtualenvs/sscx-exp/lib/python3.7/site-packages/bluepyefe/extract.py:365: RuntimeWarning: Mean of empty slice\n",
      "  numpy.nanmean(list(threshold.values())),\n"
     ]
    },
    {
     "data": {
      "text/plain": [
       "({},\n",
       " {},\n",
       " {'holding_current': [-0.032810899429023266, 0.020311509259045124],\n",
       "  'threshold_current': [nan, nan],\n",
       "  'all_holding_current': {'MouseNeuron1': -0.012499390169978142,\n",
       "   'MouseNeuron2': -0.05312240868806839},\n",
       "  'all_threshold_current': {}})"
      ]
     },
     "execution_count": 32,
     "metadata": {},
     "output_type": "execute_result"
    },
    {
     "data": {
      "text/plain": [
       "<Figure size 432x288 with 0 Axes>"
      ]
     },
     "metadata": {},
     "output_type": "display_data"
    }
   ],
   "source": [
    "bluepyefe.extract.extract_efeatures(\n",
    "    output_directory='MouseCells',\n",
    "    files_metadata=files_metadata,\n",
    "    targets=targets,\n",
    "    threshold_nvalue_save=1,\n",
    "    protocols_rheobase=[],\n",
    "    spike_threshold_rheobase=-20.,\n",
    "    write_files=True,\n",
    "    plot=True,\n",
    ")"
   ]
  },
  {
   "cell_type": "code",
   "execution_count": null,
   "metadata": {},
   "outputs": [],
   "source": []
  }
 ],
 "metadata": {
  "kernelspec": {
   "display_name": "Python 3",
   "language": "python",
   "name": "python3"
  },
  "language_info": {
   "codemirror_mode": {
    "name": "ipython",
    "version": 3
   },
   "file_extension": ".py",
   "mimetype": "text/x-python",
   "name": "python",
   "nbconvert_exporter": "python",
   "pygments_lexer": "ipython3",
   "version": "3.7.7"
  },
  "pycharm": {
   "stem_cell": {
    "cell_type": "raw",
    "metadata": {
     "collapsed": false
    },
    "source": []
   }
  }
 },
 "nbformat": 4,
 "nbformat_minor": 2
}
