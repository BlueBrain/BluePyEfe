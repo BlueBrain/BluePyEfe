{
 "cells": [
  {
   "cell_type": "markdown",
   "metadata": {},
   "source": [
    "# Extracting electrical features and plotting traces using BluePyEfe"
   ]
  },
  {
   "cell_type": "markdown",
   "metadata": {},
   "source": [
    "This notebook will show you how to use BluePyEfe to extract electrical features from experimental voltage traces. For this example we will use the rat somatosensory cortex data available at: http://microcircuits.epfl.ch/#/article/article_4_eph\n",
    "\n",
    "Author of this script: Tanguy Damart @ Blue Brain Project"
   ]
  },
  {
   "cell_type": "code",
   "execution_count": 1,
   "metadata": {},
   "outputs": [],
   "source": [
    "import bluepyefe as bpefe\n",
    "import matplotlib.pyplot as plt"
   ]
  },
  {
   "cell_type": "markdown",
   "metadata": {},
   "source": [
    "## Using BluePyEfe as a bulk efeatures extraction tool"
   ]
  },
  {
   "cell_type": "markdown",
   "metadata": {},
   "source": [
    "BluePyEfe is used to extract electrical features for groups of cells. This is done using the \"Extractor\" class.\n",
    "\n",
    "The main requirement to use the extractor class is a configuration dictionary which contains all the metadata for our trace files as well as options specifying how the extraction process will happen. For the current example on two cells, the structure of this dictionary will be as follow:"
   ]
  },
  {
   "cell_type": "code",
   "execution_count": 2,
   "metadata": {},
   "outputs": [],
   "source": [
    "import glob\n",
    "\n",
    "# Get the path of the files for the first cell and build the metadata dictionaries\n",
    "files_B6 = []\n",
    "for i in range(181, 186):\n",
    "    files_B6.append({\n",
    "                    \"dt\": 0.00025,\n",
    "                    \"i_file\": \"B6/B6_Ch0_IDRest_{}.ibw\".format(i),\n",
    "                    \"v_file\": \"B6/B6_Ch3_IDRest_{}.ibw\".format(i),\n",
    "                    \"i_unit\": \"pA\",\n",
    "                    \"t_unit\": \"s\",\n",
    "                    \"v_unit\": \"mV\",\n",
    "                    \"ordinal\": str(i),\n",
    "                    })\n",
    "\n",
    "files_B8 = []\n",
    "for i in range(145, 150):\n",
    "    files_B8.append({\n",
    "                    \"dt\": 0.00025,\n",
    "                    \"i_file\": \"B8/B8_Ch0_IDRest_{}.ibw\".format(i),\n",
    "                    \"v_file\": \"B8/B8_Ch3_IDRest_{}.ibw\".format(i),\n",
    "                    \"i_unit\": \"pA\",\n",
    "                    \"t_unit\": \"s\",\n",
    "                    \"v_unit\": \"mV\",\n",
    "                    \"ordinal\": str(i),\n",
    "                    })\n",
    "\n",
    "# Build the config dictionary\n",
    "config = {\"cells\": {\n",
    "                \"B6\": {\n",
    "                        \"etype\": \"etype\",\n",
    "                        \"exclude\": [[], []],\n",
    "                        \"experiments\": {\n",
    "                            \"IDRest\": {\n",
    "                                \"files\": files_B6,\n",
    "                                \"location\": \"soma\"\n",
    "                            }\n",
    "                        },\n",
    "                        \"ljp\": 14.,\n",
    "                        \"v_corr\": 0\n",
    "                },\n",
    "                \"B8\": {\n",
    "                        \"etype\": \"etype\",\n",
    "                        \"exclude\": [[], []],\n",
    "                        \"experiments\": {\n",
    "                            \"IDRest\": {\n",
    "                                \"files\": files_B8,\n",
    "                                \"location\": \"soma\"\n",
    "                            }\n",
    "                        },\n",
    "                        \"ljp\": 14.,\n",
    "                        \"v_corr\": 0\n",
    "                }\n",
    "          }, \n",
    "          \"comment\": [],\n",
    "          \"features\": {\"IDRest\": ['Spikecount', 'mean_frequency', 'ISI_CV', 'AP1_amp']},\n",
    "          \"format\": 'igor',\n",
    "          \"options\": {\"delay\": 500,\n",
    "                      \"logging\": False,\n",
    "                      \"nanmean\": True,\n",
    "                      \"relative\": True,\n",
    "                      \"target\": [150, 200, 250, 300],\n",
    "                      \"tolerance\": 20.,\n",
    "                      \"onoff\": {\"IDRest\": [700, 2700]},\n",
    "                      \"expthreshold\": [\"IDRest\"]},\n",
    "          \"path\": \"./exp_data/\"}"
   ]
  },
  {
   "cell_type": "markdown",
   "metadata": {},
   "source": [
    "The main purpose of the extractor class is to output efeatures and protocols \n",
    "json files that can then be used as input for single cell model building \n",
    "using BluePyOpt. To do so, the efeatures need to be averaged over the cells \n",
    "present in the dataset for different step current amplitude (specified in the\n",
    " 'target' field above). Since the option \"relative\" is set to True, these \n",
    " targets need to be defined as \n",
    " percentages of the spiking threshold of the cells, here 150%, 200%, 250% and 300%."
   ]
  },
  {
   "cell_type": "code",
   "execution_count": 3,
   "metadata": {},
   "outputs": [],
   "source": [
    "    extractor = bpefe.Extractor('output', config)\n",
    "    extractor.create_dataset()\n",
    "    extractor.plt_traces()\n",
    "    extractor.extract_features(threshold=-30.)\n",
    "    extractor.mean_features()\n",
    "    extractor.analyse_threshold()\n",
    "    extractor.plt_features()\n",
    "    extractor.feature_config_cells()\n",
    "    extractor.feature_config_all()\n",
    "    extractor.plt_features_dist()"
   ]
  },
  {
   "cell_type": "markdown",
   "metadata": {},
   "source": [
    "The resulting figures and electrical features and protocols can be seen in the ./output/ directory."
   ]
  },
  {
   "cell_type": "code",
   "execution_count": null,
   "metadata": {
    "collapsed": false,
    "pycharm": {
     "name": "#%%\n"
    }
   },
   "outputs": [],
   "source": []
  },
  {
   "cell_type": "code",
   "execution_count": null,
   "metadata": {},
   "outputs": [],
   "source": []
  }
 ],
 "metadata": {
  "kernelspec": {
   "display_name": "Python 3",
   "language": "python",
   "name": "python3"
  },
  "language_info": {
   "codemirror_mode": {
    "name": "ipython",
    "version": 3
   },
   "file_extension": ".py",
   "mimetype": "text/x-python",
   "name": "python",
   "nbconvert_exporter": "python",
   "pygments_lexer": "ipython3",
   "version": "3.7.4"
  },
  "pycharm": {
   "stem_cell": {
    "cell_type": "raw",
    "metadata": {
     "collapsed": false
    },
    "source": []
   }
  }
 },
 "nbformat": 4,
 "nbformat_minor": 2
}
